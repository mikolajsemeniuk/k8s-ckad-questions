{
 "cells": [
  {
   "cell_type": "markdown",
   "metadata": {},
   "source": [
    "# Zadanie 4.1 (1)"
   ]
  },
  {
   "cell_type": "markdown",
   "metadata": {},
   "source": [
    "L = 0*1(01)*\n",
    "     ^ -> tylko jedno wyrazenie przed *\n",
    "\n",
    "L = (e + 0*0) 1(01)*\n",
    "\n",
    "L = e1(01)* + 0*01(01)*\n",
    "\n",
    "L = 1(01)* + 0*01(01)*\n",
    "\n",
    "L //e = L => s0\n",
    "\n",
    "L // 0 = 01(01)* => s0\n",
    "\n",
    "L // 1 = (01)* = e + (01)(01)* => s1 (końcowy) ?\n",
    "\n",
    "L "
   ]
  },
  {
   "cell_type": "markdown",
   "metadata": {},
   "source": [
    "# Zadanie 7.2"
   ]
  },
  {
   "cell_type": "markdown",
   "metadata": {},
   "source": [
    "L = 101 + (01*0 + 111)*\n",
    "                      ^ -> tylko jedno wyrazenie przed *\n",
    "\n",
    "L = 101 + e + (01*0 + 111)(01*0 + 111)*\n",
    "\n",
    "L = 101 + e + 01*0(01*0 + 111)* + 111(01*0 + 111)* "
   ]
  },
  {
   "cell_type": "code",
   "execution_count": null,
   "metadata": {},
   "outputs": [],
   "source": []
  }
 ],
 "metadata": {
  "language_info": {
   "name": "python"
  }
 },
 "nbformat": 4,
 "nbformat_minor": 2
}
